{
 "cells": [
  {
   "cell_type": "code",
   "execution_count": 1,
   "id": "960ca9a8",
   "metadata": {
    "_cell_guid": "b1076dfc-b9ad-4769-8c92-a6c4dae69d19",
    "_uuid": "8f2839f25d086af736a60e9eeb907d3b93b6e0e5",
    "execution": {
     "iopub.execute_input": "2022-02-12T22:30:46.642805Z",
     "iopub.status.busy": "2022-02-12T22:30:46.642034Z",
     "iopub.status.idle": "2022-02-12T22:30:47.987482Z",
     "shell.execute_reply": "2022-02-12T22:30:47.988650Z",
     "shell.execute_reply.started": "2022-02-12T02:38:48.991769Z"
    },
    "papermill": {
     "duration": 1.378315,
     "end_time": "2022-02-12T22:30:47.992787",
     "exception": false,
     "start_time": "2022-02-12T22:30:46.614472",
     "status": "completed"
    },
    "tags": []
   },
   "outputs": [],
   "source": [
    "# This Python 3 environment comes with many helpful analytics libraries installed\n",
    "# It is defined by the kaggle/python Docker image: https://github.com/kaggle/docker-python\n",
    "# For example, here's several helpful packages to load\n",
    "\n",
    "import numpy as np # linear algebra\n",
    "import pandas as pd # data processing, CSV file I/O (e.g. pd.read_csv)\n",
    "\n",
    "# Input data files are available in the read-only \"../input/\" directory\n",
    "# For example, running this (by clicking run or pressing Shift+Enter) will list all files under the input directory\n",
    "\n",
    "import os\n",
    "from tqdm import tqdm\n",
    "import nltk\n",
    "# You can write up to 20GB to the current directory (/kaggle/working/) that gets preserved as output when you create a version using \"Save & Run All\" \n",
    "# You can also write temporary files to /kaggle/temp/, but they won't be saved outside of the current session"
   ]
  },
  {
   "cell_type": "code",
   "execution_count": 2,
   "id": "ba5b19dc",
   "metadata": {
    "execution": {
     "iopub.execute_input": "2022-02-12T22:30:48.064807Z",
     "iopub.status.busy": "2022-02-12T22:30:48.063685Z",
     "iopub.status.idle": "2022-02-12T22:30:48.066649Z",
     "shell.execute_reply": "2022-02-12T22:30:48.065777Z",
     "shell.execute_reply.started": "2022-02-12T02:38:50.316405Z"
    },
    "papermill": {
     "duration": 0.039116,
     "end_time": "2022-02-12T22:30:48.066828",
     "exception": false,
     "start_time": "2022-02-12T22:30:48.027712",
     "status": "completed"
    },
    "tags": []
   },
   "outputs": [],
   "source": [
    "discourse_types = [\"O\", \n",
    "    \"B-Position\",\n",
    "    \"I-Position\",\n",
    "    \"B-Evidence\",\n",
    "    \"I-Evidence\",\n",
    "    \"B-Counterclaim\", \n",
    "    \"I-Counterclaim\", \n",
    "    \"B-Rebuttal\", \n",
    "    \"I-Rebuttal\", \n",
    "    \"B-Claim\", \n",
    "    \"I-Claim\", \n",
    "    \"B-ConcludingStatement\", \n",
    "    \"I-ConcludingStatement\",\n",
    "    \"B-Lead\",\n",
    "    \"I-Lead\",   \n",
    "]"
   ]
  },
  {
   "cell_type": "code",
   "execution_count": 3,
   "id": "64bdc8ff",
   "metadata": {
    "execution": {
     "iopub.execute_input": "2022-02-12T22:30:48.128175Z",
     "iopub.status.busy": "2022-02-12T22:30:48.127273Z",
     "iopub.status.idle": "2022-02-12T22:30:48.129555Z",
     "shell.execute_reply": "2022-02-12T22:30:48.128897Z",
     "shell.execute_reply.started": "2022-02-12T02:38:50.322278Z"
    },
    "papermill": {
     "duration": 0.033588,
     "end_time": "2022-02-12T22:30:48.129725",
     "exception": false,
     "start_time": "2022-02-12T22:30:48.096137",
     "status": "completed"
    },
    "tags": []
   },
   "outputs": [],
   "source": [
    "# Config\n",
    "batch_size = 1\n",
    "min_tokens = 5\n",
    "tok_checkpoint = '../input/feedback-prize-huggingface-baseline-training/longformer-base-4096-4'\n",
    "model_checkpoint = '../input/feedback-prize-huggingface-baseline-training/longformer-base-4096-4/pytorch_model.bin'"
   ]
  },
  {
   "cell_type": "code",
   "execution_count": 4,
   "id": "85393d63",
   "metadata": {
    "execution": {
     "iopub.execute_input": "2022-02-12T22:30:48.186523Z",
     "iopub.status.busy": "2022-02-12T22:30:48.185649Z",
     "iopub.status.idle": "2022-02-12T22:30:54.495049Z",
     "shell.execute_reply": "2022-02-12T22:30:54.494540Z",
     "shell.execute_reply.started": "2022-02-12T02:38:50.332656Z"
    },
    "papermill": {
     "duration": 6.33983,
     "end_time": "2022-02-12T22:30:54.495181",
     "exception": false,
     "start_time": "2022-02-12T22:30:48.155351",
     "status": "completed"
    },
    "tags": []
   },
   "outputs": [],
   "source": [
    "from transformers import AutoTokenizer\n",
    "    \n",
    "tokenizer = AutoTokenizer.from_pretrained(tok_checkpoint, add_prefix_space=True)"
   ]
  },
  {
   "cell_type": "code",
   "execution_count": 5,
   "id": "0685167e",
   "metadata": {
    "execution": {
     "iopub.execute_input": "2022-02-12T22:30:54.531819Z",
     "iopub.status.busy": "2022-02-12T22:30:54.531089Z",
     "iopub.status.idle": "2022-02-12T22:31:11.493179Z",
     "shell.execute_reply": "2022-02-12T22:31:11.493616Z",
     "shell.execute_reply.started": "2022-02-12T02:38:56.81839Z"
    },
    "papermill": {
     "duration": 16.982886,
     "end_time": "2022-02-12T22:31:11.493774",
     "exception": false,
     "start_time": "2022-02-12T22:30:54.510888",
     "status": "completed"
    },
    "tags": []
   },
   "outputs": [
    {
     "data": {
      "text/plain": [
       "LongformerForTokenClassification(\n",
       "  (longformer): LongformerModel(\n",
       "    (embeddings): LongformerEmbeddings(\n",
       "      (word_embeddings): Embedding(50265, 768, padding_idx=1)\n",
       "      (position_embeddings): Embedding(4098, 768, padding_idx=1)\n",
       "      (token_type_embeddings): Embedding(1, 768)\n",
       "      (LayerNorm): LayerNorm((768,), eps=1e-05, elementwise_affine=True)\n",
       "      (dropout): Dropout(p=0.1, inplace=False)\n",
       "    )\n",
       "    (encoder): LongformerEncoder(\n",
       "      (layer): ModuleList(\n",
       "        (0): LongformerLayer(\n",
       "          (attention): LongformerAttention(\n",
       "            (self): LongformerSelfAttention(\n",
       "              (query): Linear(in_features=768, out_features=768, bias=True)\n",
       "              (key): Linear(in_features=768, out_features=768, bias=True)\n",
       "              (value): Linear(in_features=768, out_features=768, bias=True)\n",
       "              (query_global): Linear(in_features=768, out_features=768, bias=True)\n",
       "              (key_global): Linear(in_features=768, out_features=768, bias=True)\n",
       "              (value_global): Linear(in_features=768, out_features=768, bias=True)\n",
       "            )\n",
       "            (output): LongformerSelfOutput(\n",
       "              (dense): Linear(in_features=768, out_features=768, bias=True)\n",
       "              (LayerNorm): LayerNorm((768,), eps=1e-05, elementwise_affine=True)\n",
       "              (dropout): Dropout(p=0.1, inplace=False)\n",
       "            )\n",
       "          )\n",
       "          (intermediate): LongformerIntermediate(\n",
       "            (dense): Linear(in_features=768, out_features=3072, bias=True)\n",
       "          )\n",
       "          (output): LongformerOutput(\n",
       "            (dense): Linear(in_features=3072, out_features=768, bias=True)\n",
       "            (LayerNorm): LayerNorm((768,), eps=1e-05, elementwise_affine=True)\n",
       "            (dropout): Dropout(p=0.1, inplace=False)\n",
       "          )\n",
       "        )\n",
       "        (1): LongformerLayer(\n",
       "          (attention): LongformerAttention(\n",
       "            (self): LongformerSelfAttention(\n",
       "              (query): Linear(in_features=768, out_features=768, bias=True)\n",
       "              (key): Linear(in_features=768, out_features=768, bias=True)\n",
       "              (value): Linear(in_features=768, out_features=768, bias=True)\n",
       "              (query_global): Linear(in_features=768, out_features=768, bias=True)\n",
       "              (key_global): Linear(in_features=768, out_features=768, bias=True)\n",
       "              (value_global): Linear(in_features=768, out_features=768, bias=True)\n",
       "            )\n",
       "            (output): LongformerSelfOutput(\n",
       "              (dense): Linear(in_features=768, out_features=768, bias=True)\n",
       "              (LayerNorm): LayerNorm((768,), eps=1e-05, elementwise_affine=True)\n",
       "              (dropout): Dropout(p=0.1, inplace=False)\n",
       "            )\n",
       "          )\n",
       "          (intermediate): LongformerIntermediate(\n",
       "            (dense): Linear(in_features=768, out_features=3072, bias=True)\n",
       "          )\n",
       "          (output): LongformerOutput(\n",
       "            (dense): Linear(in_features=3072, out_features=768, bias=True)\n",
       "            (LayerNorm): LayerNorm((768,), eps=1e-05, elementwise_affine=True)\n",
       "            (dropout): Dropout(p=0.1, inplace=False)\n",
       "          )\n",
       "        )\n",
       "        (2): LongformerLayer(\n",
       "          (attention): LongformerAttention(\n",
       "            (self): LongformerSelfAttention(\n",
       "              (query): Linear(in_features=768, out_features=768, bias=True)\n",
       "              (key): Linear(in_features=768, out_features=768, bias=True)\n",
       "              (value): Linear(in_features=768, out_features=768, bias=True)\n",
       "              (query_global): Linear(in_features=768, out_features=768, bias=True)\n",
       "              (key_global): Linear(in_features=768, out_features=768, bias=True)\n",
       "              (value_global): Linear(in_features=768, out_features=768, bias=True)\n",
       "            )\n",
       "            (output): LongformerSelfOutput(\n",
       "              (dense): Linear(in_features=768, out_features=768, bias=True)\n",
       "              (LayerNorm): LayerNorm((768,), eps=1e-05, elementwise_affine=True)\n",
       "              (dropout): Dropout(p=0.1, inplace=False)\n",
       "            )\n",
       "          )\n",
       "          (intermediate): LongformerIntermediate(\n",
       "            (dense): Linear(in_features=768, out_features=3072, bias=True)\n",
       "          )\n",
       "          (output): LongformerOutput(\n",
       "            (dense): Linear(in_features=3072, out_features=768, bias=True)\n",
       "            (LayerNorm): LayerNorm((768,), eps=1e-05, elementwise_affine=True)\n",
       "            (dropout): Dropout(p=0.1, inplace=False)\n",
       "          )\n",
       "        )\n",
       "        (3): LongformerLayer(\n",
       "          (attention): LongformerAttention(\n",
       "            (self): LongformerSelfAttention(\n",
       "              (query): Linear(in_features=768, out_features=768, bias=True)\n",
       "              (key): Linear(in_features=768, out_features=768, bias=True)\n",
       "              (value): Linear(in_features=768, out_features=768, bias=True)\n",
       "              (query_global): Linear(in_features=768, out_features=768, bias=True)\n",
       "              (key_global): Linear(in_features=768, out_features=768, bias=True)\n",
       "              (value_global): Linear(in_features=768, out_features=768, bias=True)\n",
       "            )\n",
       "            (output): LongformerSelfOutput(\n",
       "              (dense): Linear(in_features=768, out_features=768, bias=True)\n",
       "              (LayerNorm): LayerNorm((768,), eps=1e-05, elementwise_affine=True)\n",
       "              (dropout): Dropout(p=0.1, inplace=False)\n",
       "            )\n",
       "          )\n",
       "          (intermediate): LongformerIntermediate(\n",
       "            (dense): Linear(in_features=768, out_features=3072, bias=True)\n",
       "          )\n",
       "          (output): LongformerOutput(\n",
       "            (dense): Linear(in_features=3072, out_features=768, bias=True)\n",
       "            (LayerNorm): LayerNorm((768,), eps=1e-05, elementwise_affine=True)\n",
       "            (dropout): Dropout(p=0.1, inplace=False)\n",
       "          )\n",
       "        )\n",
       "        (4): LongformerLayer(\n",
       "          (attention): LongformerAttention(\n",
       "            (self): LongformerSelfAttention(\n",
       "              (query): Linear(in_features=768, out_features=768, bias=True)\n",
       "              (key): Linear(in_features=768, out_features=768, bias=True)\n",
       "              (value): Linear(in_features=768, out_features=768, bias=True)\n",
       "              (query_global): Linear(in_features=768, out_features=768, bias=True)\n",
       "              (key_global): Linear(in_features=768, out_features=768, bias=True)\n",
       "              (value_global): Linear(in_features=768, out_features=768, bias=True)\n",
       "            )\n",
       "            (output): LongformerSelfOutput(\n",
       "              (dense): Linear(in_features=768, out_features=768, bias=True)\n",
       "              (LayerNorm): LayerNorm((768,), eps=1e-05, elementwise_affine=True)\n",
       "              (dropout): Dropout(p=0.1, inplace=False)\n",
       "            )\n",
       "          )\n",
       "          (intermediate): LongformerIntermediate(\n",
       "            (dense): Linear(in_features=768, out_features=3072, bias=True)\n",
       "          )\n",
       "          (output): LongformerOutput(\n",
       "            (dense): Linear(in_features=3072, out_features=768, bias=True)\n",
       "            (LayerNorm): LayerNorm((768,), eps=1e-05, elementwise_affine=True)\n",
       "            (dropout): Dropout(p=0.1, inplace=False)\n",
       "          )\n",
       "        )\n",
       "        (5): LongformerLayer(\n",
       "          (attention): LongformerAttention(\n",
       "            (self): LongformerSelfAttention(\n",
       "              (query): Linear(in_features=768, out_features=768, bias=True)\n",
       "              (key): Linear(in_features=768, out_features=768, bias=True)\n",
       "              (value): Linear(in_features=768, out_features=768, bias=True)\n",
       "              (query_global): Linear(in_features=768, out_features=768, bias=True)\n",
       "              (key_global): Linear(in_features=768, out_features=768, bias=True)\n",
       "              (value_global): Linear(in_features=768, out_features=768, bias=True)\n",
       "            )\n",
       "            (output): LongformerSelfOutput(\n",
       "              (dense): Linear(in_features=768, out_features=768, bias=True)\n",
       "              (LayerNorm): LayerNorm((768,), eps=1e-05, elementwise_affine=True)\n",
       "              (dropout): Dropout(p=0.1, inplace=False)\n",
       "            )\n",
       "          )\n",
       "          (intermediate): LongformerIntermediate(\n",
       "            (dense): Linear(in_features=768, out_features=3072, bias=True)\n",
       "          )\n",
       "          (output): LongformerOutput(\n",
       "            (dense): Linear(in_features=3072, out_features=768, bias=True)\n",
       "            (LayerNorm): LayerNorm((768,), eps=1e-05, elementwise_affine=True)\n",
       "            (dropout): Dropout(p=0.1, inplace=False)\n",
       "          )\n",
       "        )\n",
       "        (6): LongformerLayer(\n",
       "          (attention): LongformerAttention(\n",
       "            (self): LongformerSelfAttention(\n",
       "              (query): Linear(in_features=768, out_features=768, bias=True)\n",
       "              (key): Linear(in_features=768, out_features=768, bias=True)\n",
       "              (value): Linear(in_features=768, out_features=768, bias=True)\n",
       "              (query_global): Linear(in_features=768, out_features=768, bias=True)\n",
       "              (key_global): Linear(in_features=768, out_features=768, bias=True)\n",
       "              (value_global): Linear(in_features=768, out_features=768, bias=True)\n",
       "            )\n",
       "            (output): LongformerSelfOutput(\n",
       "              (dense): Linear(in_features=768, out_features=768, bias=True)\n",
       "              (LayerNorm): LayerNorm((768,), eps=1e-05, elementwise_affine=True)\n",
       "              (dropout): Dropout(p=0.1, inplace=False)\n",
       "            )\n",
       "          )\n",
       "          (intermediate): LongformerIntermediate(\n",
       "            (dense): Linear(in_features=768, out_features=3072, bias=True)\n",
       "          )\n",
       "          (output): LongformerOutput(\n",
       "            (dense): Linear(in_features=3072, out_features=768, bias=True)\n",
       "            (LayerNorm): LayerNorm((768,), eps=1e-05, elementwise_affine=True)\n",
       "            (dropout): Dropout(p=0.1, inplace=False)\n",
       "          )\n",
       "        )\n",
       "        (7): LongformerLayer(\n",
       "          (attention): LongformerAttention(\n",
       "            (self): LongformerSelfAttention(\n",
       "              (query): Linear(in_features=768, out_features=768, bias=True)\n",
       "              (key): Linear(in_features=768, out_features=768, bias=True)\n",
       "              (value): Linear(in_features=768, out_features=768, bias=True)\n",
       "              (query_global): Linear(in_features=768, out_features=768, bias=True)\n",
       "              (key_global): Linear(in_features=768, out_features=768, bias=True)\n",
       "              (value_global): Linear(in_features=768, out_features=768, bias=True)\n",
       "            )\n",
       "            (output): LongformerSelfOutput(\n",
       "              (dense): Linear(in_features=768, out_features=768, bias=True)\n",
       "              (LayerNorm): LayerNorm((768,), eps=1e-05, elementwise_affine=True)\n",
       "              (dropout): Dropout(p=0.1, inplace=False)\n",
       "            )\n",
       "          )\n",
       "          (intermediate): LongformerIntermediate(\n",
       "            (dense): Linear(in_features=768, out_features=3072, bias=True)\n",
       "          )\n",
       "          (output): LongformerOutput(\n",
       "            (dense): Linear(in_features=3072, out_features=768, bias=True)\n",
       "            (LayerNorm): LayerNorm((768,), eps=1e-05, elementwise_affine=True)\n",
       "            (dropout): Dropout(p=0.1, inplace=False)\n",
       "          )\n",
       "        )\n",
       "        (8): LongformerLayer(\n",
       "          (attention): LongformerAttention(\n",
       "            (self): LongformerSelfAttention(\n",
       "              (query): Linear(in_features=768, out_features=768, bias=True)\n",
       "              (key): Linear(in_features=768, out_features=768, bias=True)\n",
       "              (value): Linear(in_features=768, out_features=768, bias=True)\n",
       "              (query_global): Linear(in_features=768, out_features=768, bias=True)\n",
       "              (key_global): Linear(in_features=768, out_features=768, bias=True)\n",
       "              (value_global): Linear(in_features=768, out_features=768, bias=True)\n",
       "            )\n",
       "            (output): LongformerSelfOutput(\n",
       "              (dense): Linear(in_features=768, out_features=768, bias=True)\n",
       "              (LayerNorm): LayerNorm((768,), eps=1e-05, elementwise_affine=True)\n",
       "              (dropout): Dropout(p=0.1, inplace=False)\n",
       "            )\n",
       "          )\n",
       "          (intermediate): LongformerIntermediate(\n",
       "            (dense): Linear(in_features=768, out_features=3072, bias=True)\n",
       "          )\n",
       "          (output): LongformerOutput(\n",
       "            (dense): Linear(in_features=3072, out_features=768, bias=True)\n",
       "            (LayerNorm): LayerNorm((768,), eps=1e-05, elementwise_affine=True)\n",
       "            (dropout): Dropout(p=0.1, inplace=False)\n",
       "          )\n",
       "        )\n",
       "        (9): LongformerLayer(\n",
       "          (attention): LongformerAttention(\n",
       "            (self): LongformerSelfAttention(\n",
       "              (query): Linear(in_features=768, out_features=768, bias=True)\n",
       "              (key): Linear(in_features=768, out_features=768, bias=True)\n",
       "              (value): Linear(in_features=768, out_features=768, bias=True)\n",
       "              (query_global): Linear(in_features=768, out_features=768, bias=True)\n",
       "              (key_global): Linear(in_features=768, out_features=768, bias=True)\n",
       "              (value_global): Linear(in_features=768, out_features=768, bias=True)\n",
       "            )\n",
       "            (output): LongformerSelfOutput(\n",
       "              (dense): Linear(in_features=768, out_features=768, bias=True)\n",
       "              (LayerNorm): LayerNorm((768,), eps=1e-05, elementwise_affine=True)\n",
       "              (dropout): Dropout(p=0.1, inplace=False)\n",
       "            )\n",
       "          )\n",
       "          (intermediate): LongformerIntermediate(\n",
       "            (dense): Linear(in_features=768, out_features=3072, bias=True)\n",
       "          )\n",
       "          (output): LongformerOutput(\n",
       "            (dense): Linear(in_features=3072, out_features=768, bias=True)\n",
       "            (LayerNorm): LayerNorm((768,), eps=1e-05, elementwise_affine=True)\n",
       "            (dropout): Dropout(p=0.1, inplace=False)\n",
       "          )\n",
       "        )\n",
       "        (10): LongformerLayer(\n",
       "          (attention): LongformerAttention(\n",
       "            (self): LongformerSelfAttention(\n",
       "              (query): Linear(in_features=768, out_features=768, bias=True)\n",
       "              (key): Linear(in_features=768, out_features=768, bias=True)\n",
       "              (value): Linear(in_features=768, out_features=768, bias=True)\n",
       "              (query_global): Linear(in_features=768, out_features=768, bias=True)\n",
       "              (key_global): Linear(in_features=768, out_features=768, bias=True)\n",
       "              (value_global): Linear(in_features=768, out_features=768, bias=True)\n",
       "            )\n",
       "            (output): LongformerSelfOutput(\n",
       "              (dense): Linear(in_features=768, out_features=768, bias=True)\n",
       "              (LayerNorm): LayerNorm((768,), eps=1e-05, elementwise_affine=True)\n",
       "              (dropout): Dropout(p=0.1, inplace=False)\n",
       "            )\n",
       "          )\n",
       "          (intermediate): LongformerIntermediate(\n",
       "            (dense): Linear(in_features=768, out_features=3072, bias=True)\n",
       "          )\n",
       "          (output): LongformerOutput(\n",
       "            (dense): Linear(in_features=3072, out_features=768, bias=True)\n",
       "            (LayerNorm): LayerNorm((768,), eps=1e-05, elementwise_affine=True)\n",
       "            (dropout): Dropout(p=0.1, inplace=False)\n",
       "          )\n",
       "        )\n",
       "        (11): LongformerLayer(\n",
       "          (attention): LongformerAttention(\n",
       "            (self): LongformerSelfAttention(\n",
       "              (query): Linear(in_features=768, out_features=768, bias=True)\n",
       "              (key): Linear(in_features=768, out_features=768, bias=True)\n",
       "              (value): Linear(in_features=768, out_features=768, bias=True)\n",
       "              (query_global): Linear(in_features=768, out_features=768, bias=True)\n",
       "              (key_global): Linear(in_features=768, out_features=768, bias=True)\n",
       "              (value_global): Linear(in_features=768, out_features=768, bias=True)\n",
       "            )\n",
       "            (output): LongformerSelfOutput(\n",
       "              (dense): Linear(in_features=768, out_features=768, bias=True)\n",
       "              (LayerNorm): LayerNorm((768,), eps=1e-05, elementwise_affine=True)\n",
       "              (dropout): Dropout(p=0.1, inplace=False)\n",
       "            )\n",
       "          )\n",
       "          (intermediate): LongformerIntermediate(\n",
       "            (dense): Linear(in_features=768, out_features=3072, bias=True)\n",
       "          )\n",
       "          (output): LongformerOutput(\n",
       "            (dense): Linear(in_features=3072, out_features=768, bias=True)\n",
       "            (LayerNorm): LayerNorm((768,), eps=1e-05, elementwise_affine=True)\n",
       "            (dropout): Dropout(p=0.1, inplace=False)\n",
       "          )\n",
       "        )\n",
       "      )\n",
       "    )\n",
       "  )\n",
       "  (dropout): Dropout(p=0.1, inplace=False)\n",
       "  (classifier): Linear(in_features=768, out_features=15, bias=True)\n",
       ")"
      ]
     },
     "execution_count": 5,
     "metadata": {},
     "output_type": "execute_result"
    }
   ],
   "source": [
    "# Load model\n",
    "from transformers import AutoModelForTokenClassification, TrainingArguments, Trainer\n",
    "import torch\n",
    "\n",
    "model = AutoModelForTokenClassification.from_pretrained(tok_checkpoint, num_labels=len(discourse_types))\n",
    "\n",
    "model.load_state_dict(torch.load(model_checkpoint))\n",
    "model.eval()"
   ]
  },
  {
   "cell_type": "code",
   "execution_count": 6,
   "id": "debb3a1f",
   "metadata": {
    "execution": {
     "iopub.execute_input": "2022-02-12T22:31:11.531910Z",
     "iopub.status.busy": "2022-02-12T22:31:11.531024Z",
     "iopub.status.idle": "2022-02-12T22:31:11.532814Z",
     "shell.execute_reply": "2022-02-12T22:31:11.533267Z",
     "shell.execute_reply.started": "2022-02-12T02:39:09.306798Z"
    },
    "papermill": {
     "duration": 0.02309,
     "end_time": "2022-02-12T22:31:11.533403",
     "exception": false,
     "start_time": "2022-02-12T22:31:11.510313",
     "status": "completed"
    },
    "tags": []
   },
   "outputs": [],
   "source": [
    "from transformers import DataCollatorForTokenClassification\n",
    "\n",
    "data_collator = DataCollatorForTokenClassification(tokenizer)"
   ]
  },
  {
   "cell_type": "code",
   "execution_count": 7,
   "id": "569dffd0",
   "metadata": {
    "execution": {
     "iopub.execute_input": "2022-02-12T22:31:11.570324Z",
     "iopub.status.busy": "2022-02-12T22:31:11.569635Z",
     "iopub.status.idle": "2022-02-12T22:31:12.416881Z",
     "shell.execute_reply": "2022-02-12T22:31:12.416360Z",
     "shell.execute_reply.started": "2022-02-12T02:39:09.313299Z"
    },
    "papermill": {
     "duration": 0.867647,
     "end_time": "2022-02-12T22:31:12.417022",
     "exception": false,
     "start_time": "2022-02-12T22:31:11.549375",
     "status": "completed"
    },
    "tags": []
   },
   "outputs": [],
   "source": [
    "trainer = Trainer(\n",
    "    model,\n",
    "    data_collator=data_collator,\n",
    "    tokenizer=tokenizer\n",
    ")"
   ]
  },
  {
   "cell_type": "code",
   "execution_count": 8,
   "id": "22fd8e26",
   "metadata": {
    "execution": {
     "iopub.execute_input": "2022-02-12T22:31:12.455522Z",
     "iopub.status.busy": "2022-02-12T22:31:12.453902Z",
     "iopub.status.idle": "2022-02-12T22:31:12.456153Z",
     "shell.execute_reply": "2022-02-12T22:31:12.456596Z",
     "shell.execute_reply.started": "2022-02-12T02:39:10.121032Z"
    },
    "papermill": {
     "duration": 0.023373,
     "end_time": "2022-02-12T22:31:12.456730",
     "exception": false,
     "start_time": "2022-02-12T22:31:12.433357",
     "status": "completed"
    },
    "tags": []
   },
   "outputs": [],
   "source": [
    "TEST_DIR = f\"../input/feedback-prize-2021/test\""
   ]
  },
  {
   "cell_type": "code",
   "execution_count": 9,
   "id": "a4d74afb",
   "metadata": {
    "execution": {
     "iopub.execute_input": "2022-02-12T22:31:12.497701Z",
     "iopub.status.busy": "2022-02-12T22:31:12.496987Z",
     "iopub.status.idle": "2022-02-12T22:31:12.500787Z",
     "shell.execute_reply": "2022-02-12T22:31:12.500318Z",
     "shell.execute_reply.started": "2022-02-12T02:39:10.128384Z"
    },
    "papermill": {
     "duration": 0.028134,
     "end_time": "2022-02-12T22:31:12.500908",
     "exception": false,
     "start_time": "2022-02-12T22:31:12.472774",
     "status": "completed"
    },
    "tags": []
   },
   "outputs": [],
   "source": [
    "def create_tokens():\n",
    "    tokenized_text_file = open(\"text.txt\", \"w\")\n",
    "\n",
    "    test_dir = f\"../input/feedback-prize-2021/test\"\n",
    "\n",
    "    for filename in tqdm(os.listdir(test_dir)): #Loop through all the files in the training directory\n",
    "        file_path = os.path.join(test_dir, filename) #Get file path\n",
    "\n",
    "        # checking if it is a txt file\n",
    "        if os.path.isfile(file_path) and os.path.splitext(file_path)[1] == \".txt\":\n",
    "            \n",
    "            with open (file_path) as f:\n",
    "                file_text = f.read()\n",
    "\n",
    "            token_list = []\n",
    "            \n",
    "            text_tokens = file_text.split() #Split into word tokens\n",
    "\n",
    "            for token in text_tokens:\n",
    "                token_list.append(token)\n",
    "\n",
    "            tokenized_text_file.write(\" \".join(token_list) + \"\\n\") #Separating each token with a space and each essay with a newline\n",
    "\n",
    "    tokenized_text_file.close()"
   ]
  },
  {
   "cell_type": "code",
   "execution_count": 10,
   "id": "555dd535",
   "metadata": {
    "execution": {
     "iopub.execute_input": "2022-02-12T22:31:12.537553Z",
     "iopub.status.busy": "2022-02-12T22:31:12.536890Z",
     "iopub.status.idle": "2022-02-12T22:31:12.565445Z",
     "shell.execute_reply": "2022-02-12T22:31:12.566005Z",
     "shell.execute_reply.started": "2022-02-12T02:39:10.144229Z"
    },
    "papermill": {
     "duration": 0.048584,
     "end_time": "2022-02-12T22:31:12.566186",
     "exception": false,
     "start_time": "2022-02-12T22:31:12.517602",
     "status": "completed"
    },
    "tags": []
   },
   "outputs": [
    {
     "name": "stderr",
     "output_type": "stream",
     "text": [
      "100%|██████████| 5/5 [00:00<00:00, 303.75it/s]\n"
     ]
    }
   ],
   "source": [
    "create_tokens()"
   ]
  },
  {
   "cell_type": "code",
   "execution_count": 11,
   "id": "ec3155ef",
   "metadata": {
    "execution": {
     "iopub.execute_input": "2022-02-12T22:31:12.606862Z",
     "iopub.status.busy": "2022-02-12T22:31:12.606096Z",
     "iopub.status.idle": "2022-02-12T22:31:12.620102Z",
     "shell.execute_reply": "2022-02-12T22:31:12.620492Z",
     "shell.execute_reply.started": "2022-02-12T02:39:10.185858Z"
    },
    "papermill": {
     "duration": 0.036622,
     "end_time": "2022-02-12T22:31:12.620659",
     "exception": false,
     "start_time": "2022-02-12T22:31:12.584037",
     "status": "completed"
    },
    "tags": []
   },
   "outputs": [],
   "source": [
    "import csv\n",
    "\n",
    "test_tokens_df = pd.read_csv(\"text.txt\", sep=\"\\n\", header= None, names=[\"Tokens\"], quoting= csv.QUOTE_NONE)\n",
    "test_tokens_df.Tokens = test_tokens_df.Tokens.str.split()"
   ]
  },
  {
   "cell_type": "code",
   "execution_count": 12,
   "id": "84a2e8a7",
   "metadata": {
    "execution": {
     "iopub.execute_input": "2022-02-12T22:31:12.659864Z",
     "iopub.status.busy": "2022-02-12T22:31:12.658969Z",
     "iopub.status.idle": "2022-02-12T22:31:12.678083Z",
     "shell.execute_reply": "2022-02-12T22:31:12.677642Z",
     "shell.execute_reply.started": "2022-02-12T02:39:10.217477Z"
    },
    "papermill": {
     "duration": 0.040316,
     "end_time": "2022-02-12T22:31:12.678203",
     "exception": false,
     "start_time": "2022-02-12T22:31:12.637887",
     "status": "completed"
    },
    "tags": []
   },
   "outputs": [],
   "source": [
    "from datasets import Dataset\n",
    "test_dataset = Dataset.from_pandas(test_tokens_df)"
   ]
  },
  {
   "cell_type": "code",
   "execution_count": 13,
   "id": "cfb5e73e",
   "metadata": {
    "execution": {
     "iopub.execute_input": "2022-02-12T22:31:12.716945Z",
     "iopub.status.busy": "2022-02-12T22:31:12.716371Z",
     "iopub.status.idle": "2022-02-12T22:31:12.719953Z",
     "shell.execute_reply": "2022-02-12T22:31:12.719492Z",
     "shell.execute_reply.started": "2022-02-12T02:39:10.251908Z"
    },
    "papermill": {
     "duration": 0.024912,
     "end_time": "2022-02-12T22:31:12.720067",
     "exception": false,
     "start_time": "2022-02-12T22:31:12.695155",
     "status": "completed"
    },
    "tags": []
   },
   "outputs": [],
   "source": [
    "def tokenize_and_align_labels(examples):\n",
    "    tokenized_inputs = tokenizer(examples[\"Tokens\"], truncation=True, is_split_into_words=True)\n",
    "\n",
    "    return tokenized_inputs"
   ]
  },
  {
   "cell_type": "code",
   "execution_count": 14,
   "id": "d19d1bcd",
   "metadata": {
    "execution": {
     "iopub.execute_input": "2022-02-12T22:31:12.812357Z",
     "iopub.status.busy": "2022-02-12T22:31:12.811785Z",
     "iopub.status.idle": "2022-02-12T22:31:12.878142Z",
     "shell.execute_reply": "2022-02-12T22:31:12.878683Z",
     "shell.execute_reply.started": "2022-02-12T02:39:10.272481Z"
    },
    "papermill": {
     "duration": 0.141408,
     "end_time": "2022-02-12T22:31:12.878837",
     "exception": false,
     "start_time": "2022-02-12T22:31:12.737429",
     "status": "completed"
    },
    "tags": []
   },
   "outputs": [
    {
     "data": {
      "application/vnd.jupyter.widget-view+json": {
       "model_id": "f26aa90312d642ffaeae98076b3f7412",
       "version_major": 2,
       "version_minor": 0
      },
      "text/plain": [
       "  0%|          | 0/1 [00:00<?, ?ba/s]"
      ]
     },
     "metadata": {},
     "output_type": "display_data"
    },
    {
     "data": {
      "text/plain": [
       "Dataset({\n",
       "    features: ['Tokens', 'input_ids', 'attention_mask'],\n",
       "    num_rows: 5\n",
       "})"
      ]
     },
     "execution_count": 14,
     "metadata": {},
     "output_type": "execute_result"
    }
   ],
   "source": [
    "tokenized_test = test_dataset.map(tokenize_and_align_labels, batched=True)\n",
    "tokenized_test"
   ]
  },
  {
   "cell_type": "code",
   "execution_count": 15,
   "id": "da99267b",
   "metadata": {
    "execution": {
     "iopub.execute_input": "2022-02-12T22:31:12.920564Z",
     "iopub.status.busy": "2022-02-12T22:31:12.919329Z",
     "iopub.status.idle": "2022-02-12T22:31:14.144493Z",
     "shell.execute_reply": "2022-02-12T22:31:14.144938Z",
     "shell.execute_reply.started": "2022-02-12T02:39:10.478252Z"
    },
    "papermill": {
     "duration": 1.247356,
     "end_time": "2022-02-12T22:31:14.145094",
     "exception": false,
     "start_time": "2022-02-12T22:31:12.897738",
     "status": "completed"
    },
    "tags": []
   },
   "outputs": [
    {
     "name": "stderr",
     "output_type": "stream",
     "text": [
      "The following columns in the test set  don't have a corresponding argument in `LongformerForTokenClassification.forward` and have been ignored: Tokens.\n",
      "***** Running Prediction *****\n",
      "  Num examples = 5\n",
      "  Batch size = 8\n",
      "Input ids are automatically padded from 1292 to 1536 to be a multiple of `config.attention_window`: 512\n"
     ]
    },
    {
     "data": {
      "text/html": [
       "\n",
       "    <div>\n",
       "      \n",
       "      <progress value='1' max='1' style='width:300px; height:20px; vertical-align: middle;'></progress>\n",
       "      [1/1 : < :]\n",
       "    </div>\n",
       "    "
      ],
      "text/plain": [
       "<IPython.core.display.HTML object>"
      ]
     },
     "metadata": {},
     "output_type": "display_data"
    }
   ],
   "source": [
    "predictions, _, _ = trainer.predict(tokenized_test)"
   ]
  },
  {
   "cell_type": "code",
   "execution_count": 16,
   "id": "1f4d711c",
   "metadata": {
    "execution": {
     "iopub.execute_input": "2022-02-12T22:31:14.189768Z",
     "iopub.status.busy": "2022-02-12T22:31:14.188982Z",
     "iopub.status.idle": "2022-02-12T22:31:14.191766Z",
     "shell.execute_reply": "2022-02-12T22:31:14.191323Z",
     "shell.execute_reply.started": "2022-02-12T02:39:11.860712Z"
    },
    "papermill": {
     "duration": 0.027227,
     "end_time": "2022-02-12T22:31:14.191893",
     "exception": false,
     "start_time": "2022-02-12T22:31:14.164666",
     "status": "completed"
    },
    "tags": []
   },
   "outputs": [],
   "source": [
    "preds = np.argmax(predictions, axis=-1)"
   ]
  },
  {
   "cell_type": "code",
   "execution_count": 17,
   "id": "b9e5b169",
   "metadata": {
    "execution": {
     "iopub.execute_input": "2022-02-12T22:31:14.236670Z",
     "iopub.status.busy": "2022-02-12T22:31:14.235765Z",
     "iopub.status.idle": "2022-02-12T22:31:14.237560Z",
     "shell.execute_reply": "2022-02-12T22:31:14.237998Z",
     "shell.execute_reply.started": "2022-02-12T02:39:11.866405Z"
    },
    "papermill": {
     "duration": 0.026581,
     "end_time": "2022-02-12T22:31:14.238130",
     "exception": false,
     "start_time": "2022-02-12T22:31:14.211549",
     "status": "completed"
    },
    "tags": []
   },
   "outputs": [],
   "source": [
    "def get_discourse_type(idx):\n",
    "    discourse_type = discourse_types[int(idx)]\n",
    "    if discourse_type != \"O\":\n",
    "        discourse_type = discourse_type[2:] #Slice to remove IOB TAG\n",
    "        if discourse_type == \"ConcludingStatement\":\n",
    "            discourse_type = \"Concluding Statement\"\n",
    "    \n",
    "    return discourse_type\n"
   ]
  },
  {
   "cell_type": "code",
   "execution_count": 18,
   "id": "d5a287ff",
   "metadata": {
    "execution": {
     "iopub.execute_input": "2022-02-12T22:31:14.284026Z",
     "iopub.status.busy": "2022-02-12T22:31:14.283219Z",
     "iopub.status.idle": "2022-02-12T22:31:14.295257Z",
     "shell.execute_reply": "2022-02-12T22:31:14.294820Z",
     "shell.execute_reply.started": "2022-02-12T02:39:11.876906Z"
    },
    "papermill": {
     "duration": 0.038087,
     "end_time": "2022-02-12T22:31:14.295384",
     "exception": false,
     "start_time": "2022-02-12T22:31:14.257297",
     "status": "completed"
    },
    "tags": []
   },
   "outputs": [],
   "source": [
    "predictionstring_list = []\n",
    "discourse_type_list = []\n",
    "text_id_list = []\n",
    "\n",
    "previous_discourse_type = \"\"\n",
    "file_list = os.listdir(TEST_DIR)\n",
    "\n",
    "for text_idx, text_preds in enumerate(preds):\n",
    "    current_discourse_idx_list = []\n",
    "    for i, discourse_pred in enumerate(text_preds):\n",
    "        discourse_type = get_discourse_type(discourse_pred)\n",
    "        \n",
    "        if discourse_type != previous_discourse_type and i > 0:\n",
    "            if len(current_discourse_idx_list) > 5:\n",
    "                text_id_list.append(os.path.splitext(file_list[text_idx])[0])\n",
    "                predictionstring_list.append(\" \".join(current_discourse_idx_list))\n",
    "                discourse_type_list.append(previous_discourse_type)\n",
    "            \n",
    "            current_discourse_idx_list = []\n",
    "        \n",
    "        current_discourse_idx_list.append(str(i))\n",
    "        \n",
    "        previous_discourse_type = discourse_type"
   ]
  },
  {
   "cell_type": "code",
   "execution_count": 19,
   "id": "5a334a75",
   "metadata": {
    "execution": {
     "iopub.execute_input": "2022-02-12T22:31:14.340902Z",
     "iopub.status.busy": "2022-02-12T22:31:14.339994Z",
     "iopub.status.idle": "2022-02-12T22:31:14.341791Z",
     "shell.execute_reply": "2022-02-12T22:31:14.342286Z",
     "shell.execute_reply.started": "2022-02-12T02:43:04.087202Z"
    },
    "papermill": {
     "duration": 0.027652,
     "end_time": "2022-02-12T22:31:14.342432",
     "exception": false,
     "start_time": "2022-02-12T22:31:14.314780",
     "status": "completed"
    },
    "tags": []
   },
   "outputs": [],
   "source": [
    "fixed_id_list = []\n",
    "fixed_discourse_type_list = []\n",
    "fixed_predictionstring_list = []\n",
    "\n",
    "for i, x in enumerate(discourse_type_list):\n",
    "    \n",
    "    if (text_id_list[i] == text_id_list[i-1]) and (discourse_type_list[i] == discourse_type_list[i-1]):\n",
    "        fixed_predictionstring_list[-1] = fixed_predictionstring_list[-1] + predictionstring_list[i]\n",
    "    else:\n",
    "        fixed_id_list.append(text_id_list[i])\n",
    "        fixed_discourse_type_list.append(discourse_type_list[i])\n",
    "        fixed_predictionstring_list.append(predictionstring_list[i])\n",
    "        "
   ]
  },
  {
   "cell_type": "code",
   "execution_count": 20,
   "id": "b39ef7ba",
   "metadata": {
    "execution": {
     "iopub.execute_input": "2022-02-12T22:31:14.387142Z",
     "iopub.status.busy": "2022-02-12T22:31:14.383937Z",
     "iopub.status.idle": "2022-02-12T22:31:14.389597Z",
     "shell.execute_reply": "2022-02-12T22:31:14.389140Z",
     "shell.execute_reply.started": "2022-02-12T02:43:05.695979Z"
    },
    "papermill": {
     "duration": 0.027604,
     "end_time": "2022-02-12T22:31:14.389723",
     "exception": false,
     "start_time": "2022-02-12T22:31:14.362119",
     "status": "completed"
    },
    "tags": []
   },
   "outputs": [],
   "source": [
    "submission_df = pd.DataFrame({\n",
    "    \"id\" : fixed_id_list,\n",
    "    \"class\" : fixed_discourse_type_list,\n",
    "    \"predictionstring\" : fixed_predictionstring_list\n",
    "})"
   ]
  },
  {
   "cell_type": "code",
   "execution_count": 21,
   "id": "ac68eaec",
   "metadata": {
    "execution": {
     "iopub.execute_input": "2022-02-12T22:31:14.433492Z",
     "iopub.status.busy": "2022-02-12T22:31:14.432786Z",
     "iopub.status.idle": "2022-02-12T22:31:14.443278Z",
     "shell.execute_reply": "2022-02-12T22:31:14.442830Z",
     "shell.execute_reply.started": "2022-02-12T02:43:07.482869Z"
    },
    "papermill": {
     "duration": 0.034365,
     "end_time": "2022-02-12T22:31:14.443392",
     "exception": false,
     "start_time": "2022-02-12T22:31:14.409027",
     "status": "completed"
    },
    "tags": []
   },
   "outputs": [
    {
     "data": {
      "text/html": [
       "<div>\n",
       "<style scoped>\n",
       "    .dataframe tbody tr th:only-of-type {\n",
       "        vertical-align: middle;\n",
       "    }\n",
       "\n",
       "    .dataframe tbody tr th {\n",
       "        vertical-align: top;\n",
       "    }\n",
       "\n",
       "    .dataframe thead th {\n",
       "        text-align: right;\n",
       "    }\n",
       "</style>\n",
       "<table border=\"1\" class=\"dataframe\">\n",
       "  <thead>\n",
       "    <tr style=\"text-align: right;\">\n",
       "      <th></th>\n",
       "      <th>id</th>\n",
       "      <th>class</th>\n",
       "      <th>predictionstring</th>\n",
       "    </tr>\n",
       "  </thead>\n",
       "  <tbody>\n",
       "    <tr>\n",
       "      <th>0</th>\n",
       "      <td>0FB0700DAF44</td>\n",
       "      <td>Rebuttal</td>\n",
       "      <td>2 3 4 5 6 7 8 9 10 11 12 13 14 15 16 17 18 19 ...</td>\n",
       "    </tr>\n",
       "    <tr>\n",
       "      <th>1</th>\n",
       "      <td>0FB0700DAF44</td>\n",
       "      <td>Claim</td>\n",
       "      <td>57 58 59 60 61 62 63 64 65 66 67 68 69 70 71 7...</td>\n",
       "    </tr>\n",
       "    <tr>\n",
       "      <th>2</th>\n",
       "      <td>0FB0700DAF44</td>\n",
       "      <td>Lead</td>\n",
       "      <td>125 126 127 128 129 130 131 132 133 134 135 13...</td>\n",
       "    </tr>\n",
       "    <tr>\n",
       "      <th>3</th>\n",
       "      <td>0FB0700DAF44</td>\n",
       "      <td>Claim</td>\n",
       "      <td>140 141 142 143 144 145 146 147 148 149 150 15...</td>\n",
       "    </tr>\n",
       "    <tr>\n",
       "      <th>4</th>\n",
       "      <td>0FB0700DAF44</td>\n",
       "      <td>Concluding Statement</td>\n",
       "      <td>644 645 646 647 648 649 650 651 652 653 654 65...</td>\n",
       "    </tr>\n",
       "  </tbody>\n",
       "</table>\n",
       "</div>"
      ],
      "text/plain": [
       "             id                 class  \\\n",
       "0  0FB0700DAF44              Rebuttal   \n",
       "1  0FB0700DAF44                 Claim   \n",
       "2  0FB0700DAF44                  Lead   \n",
       "3  0FB0700DAF44                 Claim   \n",
       "4  0FB0700DAF44  Concluding Statement   \n",
       "\n",
       "                                    predictionstring  \n",
       "0  2 3 4 5 6 7 8 9 10 11 12 13 14 15 16 17 18 19 ...  \n",
       "1  57 58 59 60 61 62 63 64 65 66 67 68 69 70 71 7...  \n",
       "2  125 126 127 128 129 130 131 132 133 134 135 13...  \n",
       "3  140 141 142 143 144 145 146 147 148 149 150 15...  \n",
       "4  644 645 646 647 648 649 650 651 652 653 654 65...  "
      ]
     },
     "execution_count": 21,
     "metadata": {},
     "output_type": "execute_result"
    }
   ],
   "source": [
    "submission_df.head()"
   ]
  },
  {
   "cell_type": "code",
   "execution_count": 22,
   "id": "7e0b0ebf",
   "metadata": {
    "execution": {
     "iopub.execute_input": "2022-02-12T22:31:14.488359Z",
     "iopub.status.busy": "2022-02-12T22:31:14.487551Z",
     "iopub.status.idle": "2022-02-12T22:31:14.493185Z",
     "shell.execute_reply": "2022-02-12T22:31:14.492766Z",
     "shell.execute_reply.started": "2022-02-12T02:43:09.997669Z"
    },
    "papermill": {
     "duration": 0.029857,
     "end_time": "2022-02-12T22:31:14.493302",
     "exception": false,
     "start_time": "2022-02-12T22:31:14.463445",
     "status": "completed"
    },
    "tags": []
   },
   "outputs": [],
   "source": [
    "submission_df.to_csv(\"submission.csv\", index=False)"
   ]
  }
 ],
 "metadata": {
  "kernelspec": {
   "display_name": "Python 3",
   "language": "python",
   "name": "python3"
  },
  "language_info": {
   "codemirror_mode": {
    "name": "ipython",
    "version": 3
   },
   "file_extension": ".py",
   "mimetype": "text/x-python",
   "name": "python",
   "nbconvert_exporter": "python",
   "pygments_lexer": "ipython3",
   "version": "3.7.12"
  },
  "papermill": {
   "default_parameters": {},
   "duration": 39.376723,
   "end_time": "2022-02-12T22:31:17.737831",
   "environment_variables": {},
   "exception": null,
   "input_path": "__notebook__.ipynb",
   "output_path": "__notebook__.ipynb",
   "parameters": {},
   "start_time": "2022-02-12T22:30:38.361108",
   "version": "2.3.3"
  },
  "widgets": {
   "application/vnd.jupyter.widget-state+json": {
    "state": {
     "11228de720f746ee962ccc16db890849": {
      "model_module": "@jupyter-widgets/controls",
      "model_module_version": "1.5.0",
      "model_name": "ProgressStyleModel",
      "state": {
       "_model_module": "@jupyter-widgets/controls",
       "_model_module_version": "1.5.0",
       "_model_name": "ProgressStyleModel",
       "_view_count": null,
       "_view_module": "@jupyter-widgets/base",
       "_view_module_version": "1.2.0",
       "_view_name": "StyleView",
       "bar_color": null,
       "description_width": ""
      }
     },
     "382403d0026047719d7db9aecc389619": {
      "model_module": "@jupyter-widgets/controls",
      "model_module_version": "1.5.0",
      "model_name": "FloatProgressModel",
      "state": {
       "_dom_classes": [],
       "_model_module": "@jupyter-widgets/controls",
       "_model_module_version": "1.5.0",
       "_model_name": "FloatProgressModel",
       "_view_count": null,
       "_view_module": "@jupyter-widgets/controls",
       "_view_module_version": "1.5.0",
       "_view_name": "ProgressView",
       "bar_style": "success",
       "description": "",
       "description_tooltip": null,
       "layout": "IPY_MODEL_7822b2e68018450c9699edd545c9ed7f",
       "max": 1.0,
       "min": 0.0,
       "orientation": "horizontal",
       "style": "IPY_MODEL_11228de720f746ee962ccc16db890849",
       "value": 1.0
      }
     },
     "620a1fd01c064fffaae1c1526b1a8fc6": {
      "model_module": "@jupyter-widgets/controls",
      "model_module_version": "1.5.0",
      "model_name": "DescriptionStyleModel",
      "state": {
       "_model_module": "@jupyter-widgets/controls",
       "_model_module_version": "1.5.0",
       "_model_name": "DescriptionStyleModel",
       "_view_count": null,
       "_view_module": "@jupyter-widgets/base",
       "_view_module_version": "1.2.0",
       "_view_name": "StyleView",
       "description_width": ""
      }
     },
     "7822b2e68018450c9699edd545c9ed7f": {
      "model_module": "@jupyter-widgets/base",
      "model_module_version": "1.2.0",
      "model_name": "LayoutModel",
      "state": {
       "_model_module": "@jupyter-widgets/base",
       "_model_module_version": "1.2.0",
       "_model_name": "LayoutModel",
       "_view_count": null,
       "_view_module": "@jupyter-widgets/base",
       "_view_module_version": "1.2.0",
       "_view_name": "LayoutView",
       "align_content": null,
       "align_items": null,
       "align_self": null,
       "border": null,
       "bottom": null,
       "display": null,
       "flex": null,
       "flex_flow": null,
       "grid_area": null,
       "grid_auto_columns": null,
       "grid_auto_flow": null,
       "grid_auto_rows": null,
       "grid_column": null,
       "grid_gap": null,
       "grid_row": null,
       "grid_template_areas": null,
       "grid_template_columns": null,
       "grid_template_rows": null,
       "height": null,
       "justify_content": null,
       "justify_items": null,
       "left": null,
       "margin": null,
       "max_height": null,
       "max_width": null,
       "min_height": null,
       "min_width": null,
       "object_fit": null,
       "object_position": null,
       "order": null,
       "overflow": null,
       "overflow_x": null,
       "overflow_y": null,
       "padding": null,
       "right": null,
       "top": null,
       "visibility": null,
       "width": null
      }
     },
     "95fb443de1914b9ba4286cf1909efbba": {
      "model_module": "@jupyter-widgets/base",
      "model_module_version": "1.2.0",
      "model_name": "LayoutModel",
      "state": {
       "_model_module": "@jupyter-widgets/base",
       "_model_module_version": "1.2.0",
       "_model_name": "LayoutModel",
       "_view_count": null,
       "_view_module": "@jupyter-widgets/base",
       "_view_module_version": "1.2.0",
       "_view_name": "LayoutView",
       "align_content": null,
       "align_items": null,
       "align_self": null,
       "border": null,
       "bottom": null,
       "display": null,
       "flex": null,
       "flex_flow": null,
       "grid_area": null,
       "grid_auto_columns": null,
       "grid_auto_flow": null,
       "grid_auto_rows": null,
       "grid_column": null,
       "grid_gap": null,
       "grid_row": null,
       "grid_template_areas": null,
       "grid_template_columns": null,
       "grid_template_rows": null,
       "height": null,
       "justify_content": null,
       "justify_items": null,
       "left": null,
       "margin": null,
       "max_height": null,
       "max_width": null,
       "min_height": null,
       "min_width": null,
       "object_fit": null,
       "object_position": null,
       "order": null,
       "overflow": null,
       "overflow_x": null,
       "overflow_y": null,
       "padding": null,
       "right": null,
       "top": null,
       "visibility": null,
       "width": null
      }
     },
     "a6936322f0d1420491c2b7f888498e51": {
      "model_module": "@jupyter-widgets/controls",
      "model_module_version": "1.5.0",
      "model_name": "HTMLModel",
      "state": {
       "_dom_classes": [],
       "_model_module": "@jupyter-widgets/controls",
       "_model_module_version": "1.5.0",
       "_model_name": "HTMLModel",
       "_view_count": null,
       "_view_module": "@jupyter-widgets/controls",
       "_view_module_version": "1.5.0",
       "_view_name": "HTMLView",
       "description": "",
       "description_tooltip": null,
       "layout": "IPY_MODEL_fc5769687e154dd7b6663a2b82f945a1",
       "placeholder": "​",
       "style": "IPY_MODEL_bdd4b03215e545dabbca6463b837e169",
       "value": "100%"
      }
     },
     "b6ffc218e7434779af8958e7f1dbc68f": {
      "model_module": "@jupyter-widgets/base",
      "model_module_version": "1.2.0",
      "model_name": "LayoutModel",
      "state": {
       "_model_module": "@jupyter-widgets/base",
       "_model_module_version": "1.2.0",
       "_model_name": "LayoutModel",
       "_view_count": null,
       "_view_module": "@jupyter-widgets/base",
       "_view_module_version": "1.2.0",
       "_view_name": "LayoutView",
       "align_content": null,
       "align_items": null,
       "align_self": null,
       "border": null,
       "bottom": null,
       "display": null,
       "flex": null,
       "flex_flow": null,
       "grid_area": null,
       "grid_auto_columns": null,
       "grid_auto_flow": null,
       "grid_auto_rows": null,
       "grid_column": null,
       "grid_gap": null,
       "grid_row": null,
       "grid_template_areas": null,
       "grid_template_columns": null,
       "grid_template_rows": null,
       "height": null,
       "justify_content": null,
       "justify_items": null,
       "left": null,
       "margin": null,
       "max_height": null,
       "max_width": null,
       "min_height": null,
       "min_width": null,
       "object_fit": null,
       "object_position": null,
       "order": null,
       "overflow": null,
       "overflow_x": null,
       "overflow_y": null,
       "padding": null,
       "right": null,
       "top": null,
       "visibility": null,
       "width": null
      }
     },
     "bdd4b03215e545dabbca6463b837e169": {
      "model_module": "@jupyter-widgets/controls",
      "model_module_version": "1.5.0",
      "model_name": "DescriptionStyleModel",
      "state": {
       "_model_module": "@jupyter-widgets/controls",
       "_model_module_version": "1.5.0",
       "_model_name": "DescriptionStyleModel",
       "_view_count": null,
       "_view_module": "@jupyter-widgets/base",
       "_view_module_version": "1.2.0",
       "_view_name": "StyleView",
       "description_width": ""
      }
     },
     "c15ddd436fff4aee895ba71a308fa213": {
      "model_module": "@jupyter-widgets/controls",
      "model_module_version": "1.5.0",
      "model_name": "HTMLModel",
      "state": {
       "_dom_classes": [],
       "_model_module": "@jupyter-widgets/controls",
       "_model_module_version": "1.5.0",
       "_model_name": "HTMLModel",
       "_view_count": null,
       "_view_module": "@jupyter-widgets/controls",
       "_view_module_version": "1.5.0",
       "_view_name": "HTMLView",
       "description": "",
       "description_tooltip": null,
       "layout": "IPY_MODEL_b6ffc218e7434779af8958e7f1dbc68f",
       "placeholder": "​",
       "style": "IPY_MODEL_620a1fd01c064fffaae1c1526b1a8fc6",
       "value": " 1/1 [00:00&lt;00:00, 12.81ba/s]"
      }
     },
     "f26aa90312d642ffaeae98076b3f7412": {
      "model_module": "@jupyter-widgets/controls",
      "model_module_version": "1.5.0",
      "model_name": "HBoxModel",
      "state": {
       "_dom_classes": [],
       "_model_module": "@jupyter-widgets/controls",
       "_model_module_version": "1.5.0",
       "_model_name": "HBoxModel",
       "_view_count": null,
       "_view_module": "@jupyter-widgets/controls",
       "_view_module_version": "1.5.0",
       "_view_name": "HBoxView",
       "box_style": "",
       "children": [
        "IPY_MODEL_a6936322f0d1420491c2b7f888498e51",
        "IPY_MODEL_382403d0026047719d7db9aecc389619",
        "IPY_MODEL_c15ddd436fff4aee895ba71a308fa213"
       ],
       "layout": "IPY_MODEL_95fb443de1914b9ba4286cf1909efbba"
      }
     },
     "fc5769687e154dd7b6663a2b82f945a1": {
      "model_module": "@jupyter-widgets/base",
      "model_module_version": "1.2.0",
      "model_name": "LayoutModel",
      "state": {
       "_model_module": "@jupyter-widgets/base",
       "_model_module_version": "1.2.0",
       "_model_name": "LayoutModel",
       "_view_count": null,
       "_view_module": "@jupyter-widgets/base",
       "_view_module_version": "1.2.0",
       "_view_name": "LayoutView",
       "align_content": null,
       "align_items": null,
       "align_self": null,
       "border": null,
       "bottom": null,
       "display": null,
       "flex": null,
       "flex_flow": null,
       "grid_area": null,
       "grid_auto_columns": null,
       "grid_auto_flow": null,
       "grid_auto_rows": null,
       "grid_column": null,
       "grid_gap": null,
       "grid_row": null,
       "grid_template_areas": null,
       "grid_template_columns": null,
       "grid_template_rows": null,
       "height": null,
       "justify_content": null,
       "justify_items": null,
       "left": null,
       "margin": null,
       "max_height": null,
       "max_width": null,
       "min_height": null,
       "min_width": null,
       "object_fit": null,
       "object_position": null,
       "order": null,
       "overflow": null,
       "overflow_x": null,
       "overflow_y": null,
       "padding": null,
       "right": null,
       "top": null,
       "visibility": null,
       "width": null
      }
     }
    },
    "version_major": 2,
    "version_minor": 0
   }
  }
 },
 "nbformat": 4,
 "nbformat_minor": 5
}
