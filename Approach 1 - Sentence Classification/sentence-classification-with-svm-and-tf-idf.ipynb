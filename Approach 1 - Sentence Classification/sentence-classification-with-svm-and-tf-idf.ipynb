{
 "cells": [
  {
   "cell_type": "markdown",
   "id": "79a66379",
   "metadata": {
    "papermill": {
     "duration": 0.012685,
     "end_time": "2022-02-10T01:29:15.436086",
     "exception": false,
     "start_time": "2022-02-10T01:29:15.423401",
     "status": "completed"
    },
    "tags": []
   },
   "source": [
    "This notebook demonstrates how to approach this competition using sentence classification. Each discourse is split into sentences to train an SVM model that will predict on individual sentences in the testing data."
   ]
  },
  {
   "cell_type": "code",
   "execution_count": 1,
   "id": "7a8236c8",
   "metadata": {
    "_cell_guid": "b1076dfc-b9ad-4769-8c92-a6c4dae69d19",
    "_uuid": "8f2839f25d086af736a60e9eeb907d3b93b6e0e5",
    "execution": {
     "iopub.execute_input": "2022-02-10T01:29:15.466913Z",
     "iopub.status.busy": "2022-02-10T01:29:15.465098Z",
     "iopub.status.idle": "2022-02-10T01:29:21.092162Z",
     "shell.execute_reply": "2022-02-10T01:29:21.092936Z",
     "shell.execute_reply.started": "2022-02-08T21:45:01.878547Z"
    },
    "papermill": {
     "duration": 5.644036,
     "end_time": "2022-02-10T01:29:21.093250",
     "exception": false,
     "start_time": "2022-02-10T01:29:15.449214",
     "status": "completed"
    },
    "tags": []
   },
   "outputs": [],
   "source": [
    "# This Python 3 environment comes with many helpful analytics libraries installed\n",
    "# It is defined by the kaggle/python Docker image: https://github.com/kaggle/docker-python\n",
    "# For example, here's several helpful packages to load\n",
    "\n",
    "import numpy as np # linear algebra\n",
    "import pandas as pd # data processing, CSV file I/O (e.g. pd.read_csv)\n",
    "\n",
    "import nltk\n",
    "# Input data files are available in the read-only \"../input/\" directory\n",
    "# For example, running this (by clicking run or pressing Shift+Enter) will list all files under the input directory\n",
    "\n",
    "import os\n",
    "for dirname, _, filenames in os.walk('/kaggle/input'):\n",
    "    for filename in filenames:\n",
    "        pass\n",
    "#         print(os.path.join(dirname, filename))\n",
    "\n",
    "# You can write up to 20GB to the current directory (/kaggle/working/) that gets preserved as output when you create a version using \"Save & Run All\"\n",
    "# You can also write temporary files to /kaggle/temp/, but they won't be saved outside of the current session"
   ]
  },
  {
   "cell_type": "code",
   "execution_count": 2,
   "id": "c86844bd",
   "metadata": {
    "execution": {
     "iopub.execute_input": "2022-02-10T01:29:21.120992Z",
     "iopub.status.busy": "2022-02-10T01:29:21.119958Z",
     "iopub.status.idle": "2022-02-10T01:29:22.858675Z",
     "shell.execute_reply": "2022-02-10T01:29:22.857705Z",
     "shell.execute_reply.started": "2022-02-08T21:45:09.49662Z"
    },
    "papermill": {
     "duration": 1.753439,
     "end_time": "2022-02-10T01:29:22.858828",
     "exception": false,
     "start_time": "2022-02-10T01:29:21.105389",
     "status": "completed"
    },
    "tags": []
   },
   "outputs": [],
   "source": [
    "train_df = pd.read_csv(\"/kaggle/input/feedback-prize-2021/train.csv\")"
   ]
  },
  {
   "cell_type": "code",
   "execution_count": 3,
   "id": "355357db",
   "metadata": {
    "execution": {
     "iopub.execute_input": "2022-02-10T01:29:22.897312Z",
     "iopub.status.busy": "2022-02-10T01:29:22.896624Z",
     "iopub.status.idle": "2022-02-10T01:29:23.175077Z",
     "shell.execute_reply": "2022-02-10T01:29:23.175609Z",
     "shell.execute_reply.started": "2022-02-08T21:45:11.183448Z"
    },
    "papermill": {
     "duration": 0.305388,
     "end_time": "2022-02-10T01:29:23.175808",
     "exception": false,
     "start_time": "2022-02-10T01:29:22.870420",
     "status": "completed"
    },
    "tags": []
   },
   "outputs": [
    {
     "data": {
      "text/plain": [
       "<AxesSubplot:>"
      ]
     },
     "execution_count": 3,
     "metadata": {},
     "output_type": "execute_result"
    },
    {
     "data": {
      "image/png": "[encoded data removed]",
      "text/plain": [
       "<Figure size 432x288 with 1 Axes>"
      ]
     },
     "metadata": {
      "needs_background": "light"
     },
     "output_type": "display_data"
    }
   ],
   "source": [
    "train_df.discourse_type.value_counts().plot.barh()"
   ]
  },
  {
   "cell_type": "code",
   "execution_count": 4,
   "id": "463594b9",
   "metadata": {
    "execution": {
     "iopub.execute_input": "2022-02-10T01:29:23.241883Z",
     "iopub.status.busy": "2022-02-10T01:29:23.240005Z",
     "iopub.status.idle": "2022-02-10T01:29:23.244853Z",
     "shell.execute_reply": "2022-02-10T01:29:23.244308Z",
     "shell.execute_reply.started": "2022-01-26T23:30:35.331898Z"
    },
    "papermill": {
     "duration": 0.05301,
     "end_time": "2022-02-10T01:29:23.245016",
     "exception": false,
     "start_time": "2022-02-10T01:29:23.192006",
     "status": "completed"
    },
    "tags": []
   },
   "outputs": [],
   "source": [
    "train_texts= list(train_df.discourse_text)"
   ]
  },
  {
   "cell_type": "code",
   "execution_count": 5,
   "id": "9427bae1",
   "metadata": {
    "execution": {
     "iopub.execute_input": "2022-02-10T01:29:23.275314Z",
     "iopub.status.busy": "2022-02-10T01:29:23.274660Z",
     "iopub.status.idle": "2022-02-10T01:29:23.277748Z",
     "shell.execute_reply": "2022-02-10T01:29:23.277108Z",
     "shell.execute_reply.started": "2022-01-26T23:30:35.3865Z"
    },
    "papermill": {
     "duration": 0.020275,
     "end_time": "2022-02-10T01:29:23.277895",
     "exception": false,
     "start_time": "2022-02-10T01:29:23.257620",
     "status": "completed"
    },
    "tags": []
   },
   "outputs": [],
   "source": [
    "train_labels = np.array(train_df.discourse_type)"
   ]
  },
  {
   "cell_type": "code",
   "execution_count": 6,
   "id": "624cecd0",
   "metadata": {
    "execution": {
     "iopub.execute_input": "2022-02-10T01:29:23.311687Z",
     "iopub.status.busy": "2022-02-10T01:29:23.310955Z",
     "iopub.status.idle": "2022-02-10T01:29:44.646249Z",
     "shell.execute_reply": "2022-02-10T01:29:44.646781Z",
     "shell.execute_reply.started": "2022-01-26T23:30:35.397322Z"
    },
    "papermill": {
     "duration": 21.356481,
     "end_time": "2022-02-10T01:29:44.646978",
     "exception": false,
     "start_time": "2022-02-10T01:29:23.290497",
     "status": "completed"
    },
    "tags": []
   },
   "outputs": [
    {
     "name": "stderr",
     "output_type": "stream",
     "text": [
      "/opt/conda/lib/python3.7/site-packages/sklearn/feature_extraction/text.py:1799: UserWarning: Only (<class 'numpy.float64'>, <class 'numpy.float32'>, <class 'numpy.float16'>) 'dtype' should be used. int32 'dtype' will be converted to np.float64.\n",
      "  UserWarning)\n"
     ]
    }
   ],
   "source": [
    "from sklearn.feature_extraction.text import TfidfVectorizer\n",
    "from sklearn.feature_selection import SelectKBest\n",
    "from sklearn.feature_selection import f_classif\n",
    "\n",
    "# https://developers.google.com/machine-learning/guides/text-classification\n",
    "# Vectorization parameters\n",
    "# Range (inclusive) of n-gram sizes for tokenizing text.\n",
    "\n",
    "NGRAM_RANGE = (1, 2) #Unigrams and bigrams\n",
    "\n",
    "# Limit on the number of features. Top 20K features are used.\n",
    "TOP_K = 20000\n",
    "\n",
    "# Whether text should be split into word or character n-grams.\n",
    "TOKEN_MODE = 'word'\n",
    "\n",
    "# Document/corpus frequency below which a token will be discarded.\n",
    "MIN_DOCUMENT_FREQUENCY = 2\n",
    "\n",
    "\n",
    "# Arguments for tf-idf vectorizer.\n",
    "kwargs = {\n",
    "        'ngram_range': NGRAM_RANGE,  # Use Unigrams and bigrams\n",
    "        'dtype': 'int32',\n",
    "        'strip_accents': 'unicode',\n",
    "        'decode_error': 'replace',\n",
    "        'analyzer': TOKEN_MODE,  # Split text into word tokens.\n",
    "        'min_df': MIN_DOCUMENT_FREQUENCY,\n",
    "}\n",
    "vectorizer = TfidfVectorizer(**kwargs)\n",
    "\n",
    "# Learn vocabulary from training texts and vectorize training texts.\n",
    "x_train = vectorizer.fit_transform(train_texts)\n",
    "\n",
    "\n",
    "# Select top 'k' of the vectorized features.\n",
    "selector = SelectKBest(f_classif, k=min(TOP_K, x_train.shape[1]))\n",
    "selector.fit(x_train, train_labels)\n",
    "x_train = selector.transform(x_train).astype('float32')"
   ]
  },
  {
   "cell_type": "code",
   "execution_count": 7,
   "id": "ee3e456f",
   "metadata": {
    "execution": {
     "iopub.execute_input": "2022-02-10T01:29:44.678071Z",
     "iopub.status.busy": "2022-02-10T01:29:44.677256Z",
     "iopub.status.idle": "2022-02-10T01:30:01.116717Z",
     "shell.execute_reply": "2022-02-10T01:30:01.116109Z",
     "shell.execute_reply.started": "2022-01-26T23:31:01.166356Z"
    },
    "papermill": {
     "duration": 16.456909,
     "end_time": "2022-02-10T01:30:01.116876",
     "exception": false,
     "start_time": "2022-02-10T01:29:44.659967",
     "status": "completed"
    },
    "tags": []
   },
   "outputs": [
    {
     "name": "stdout",
     "output_type": "stream",
     "text": [
      "training\n"
     ]
    },
    {
     "data": {
      "text/plain": [
       "LinearSVC()"
      ]
     },
     "execution_count": 7,
     "metadata": {},
     "output_type": "execute_result"
    }
   ],
   "source": [
    "from sklearn.svm import LinearSVC\n",
    "\n",
    "svm_model = LinearSVC()\n",
    "\n",
    "print(\"training\")\n",
    "svm_model.fit(x_train, train_labels)"
   ]
  },
  {
   "cell_type": "code",
   "execution_count": 8,
   "id": "3742bb4a",
   "metadata": {
    "execution": {
     "iopub.execute_input": "2022-02-10T01:30:01.147531Z",
     "iopub.status.busy": "2022-02-10T01:30:01.146791Z",
     "iopub.status.idle": "2022-02-10T01:30:01.152619Z",
     "shell.execute_reply": "2022-02-10T01:30:01.153135Z",
     "shell.execute_reply.started": "2022-01-26T23:31:01.154666Z"
    },
    "papermill": {
     "duration": 0.022671,
     "end_time": "2022-02-10T01:30:01.153322",
     "exception": false,
     "start_time": "2022-02-10T01:30:01.130651",
     "status": "completed"
    },
    "tags": []
   },
   "outputs": [],
   "source": [
    "#Create dict with each testing essay's text and id\n",
    "def create_test_texts_list():\n",
    "    total_list = []\n",
    "    \n",
    "    test_dir = \"../input/feedback-prize-2021/test\"\n",
    "    for filename in os.listdir(test_dir):\n",
    "        file_path = os.path.join(test_dir, filename)\n",
    "        # checking if it is a file\n",
    "        if os.path.isfile(file_path) and os.path.splitext(file_path)[1] == \".txt\":\n",
    "            with open(file_path) as f:\n",
    "                    total_list.append({\n",
    "                        'text' : f.read(), \n",
    "                        'id' : os.path.splitext(filename)[0]\n",
    "                    })\n",
    "    \n",
    "    return total_list"
   ]
  },
  {
   "cell_type": "code",
   "execution_count": 9,
   "id": "382a08bf",
   "metadata": {
    "execution": {
     "iopub.execute_input": "2022-02-10T01:30:01.183772Z",
     "iopub.status.busy": "2022-02-10T01:30:01.183054Z",
     "iopub.status.idle": "2022-02-10T01:30:01.206430Z",
     "shell.execute_reply": "2022-02-10T01:30:01.207006Z",
     "shell.execute_reply.started": "2022-01-26T23:31:26.048553Z"
    },
    "papermill": {
     "duration": 0.040251,
     "end_time": "2022-02-10T01:30:01.207186",
     "exception": false,
     "start_time": "2022-02-10T01:30:01.166935",
     "status": "completed"
    },
    "tags": []
   },
   "outputs": [],
   "source": [
    "test_texts = create_test_texts_list()"
   ]
  },
  {
   "cell_type": "code",
   "execution_count": 10,
   "id": "9cc73b65",
   "metadata": {
    "execution": {
     "iopub.execute_input": "2022-02-10T01:30:01.238026Z",
     "iopub.status.busy": "2022-02-10T01:30:01.237278Z",
     "iopub.status.idle": "2022-02-10T01:30:01.522469Z",
     "shell.execute_reply": "2022-02-10T01:30:01.521891Z",
     "shell.execute_reply.started": "2022-01-26T23:32:25.283852Z"
    },
    "papermill": {
     "duration": 0.301427,
     "end_time": "2022-02-10T01:30:01.522633",
     "exception": false,
     "start_time": "2022-02-10T01:30:01.221206",
     "status": "completed"
    },
    "tags": []
   },
   "outputs": [],
   "source": [
    "pred_dicts_list = []\n",
    "\n",
    "for test_text in test_texts:\n",
    "    \n",
    "    total_word_count = 0\n",
    "    \n",
    "    tokenized_sentences = nltk.sent_tokenize(test_text[\"text\"])\n",
    "    \n",
    "    x_test = vectorizer.transform(tokenized_sentences)\n",
    "    x_test = selector.transform(x_test).astype('float32')\n",
    "    preds = svm_model.predict(x_test) #Returns list\n",
    "    \n",
    "    \n",
    "    for i, pred in enumerate(preds):\n",
    "        \n",
    "        # Generate prediction strings for each predicted discourse\n",
    "        tokenized_sentence = tokenized_sentences[i]\n",
    "        \n",
    "        if i == 0 or preds[i-1] != pred:\n",
    "            prediction_string = \"\"\n",
    "        \n",
    "        for x in range(total_word_count, total_word_count + len(tokenized_sentence.split())):\n",
    "            prediction_string += f\"{x} \"\n",
    "        \n",
    "        total_word_count += len(tokenized_sentence.split())\n",
    "        \n",
    "        try:\n",
    "            if preds[i+1] == pred:\n",
    "                continue\n",
    "        except:\n",
    "            pass\n",
    "        \n",
    "        pred_dicts_list.append({\n",
    "            \"id\" : test_text[\"id\"],\n",
    "            \"class\" : pred, \n",
    "            \"predictionstring\" : prediction_string.strip()\n",
    "        })"
   ]
  },
  {
   "cell_type": "code",
   "execution_count": 11,
   "id": "ccb48225",
   "metadata": {
    "execution": {
     "iopub.execute_input": "2022-02-10T01:30:01.556757Z",
     "iopub.status.busy": "2022-02-10T01:30:01.555803Z",
     "iopub.status.idle": "2022-02-10T01:30:01.558279Z",
     "shell.execute_reply": "2022-02-10T01:30:01.557773Z",
     "shell.execute_reply.started": "2022-01-26T23:32:29.897371Z"
    },
    "papermill": {
     "duration": 0.021899,
     "end_time": "2022-02-10T01:30:01.558422",
     "exception": false,
     "start_time": "2022-02-10T01:30:01.536523",
     "status": "completed"
    },
    "tags": []
   },
   "outputs": [],
   "source": [
    "submission_df = pd.DataFrame(pred_dicts_list)"
   ]
  },
  {
   "cell_type": "code",
   "execution_count": 12,
   "id": "8c40f978",
   "metadata": {
    "execution": {
     "iopub.execute_input": "2022-02-10T01:30:01.588753Z",
     "iopub.status.busy": "2022-02-10T01:30:01.588090Z",
     "iopub.status.idle": "2022-02-10T01:30:01.596568Z",
     "shell.execute_reply": "2022-02-10T01:30:01.596002Z",
     "shell.execute_reply.started": "2022-01-26T23:31:26.313743Z"
    },
    "papermill": {
     "duration": 0.024647,
     "end_time": "2022-02-10T01:30:01.596723",
     "exception": false,
     "start_time": "2022-02-10T01:30:01.572076",
     "status": "completed"
    },
    "tags": []
   },
   "outputs": [],
   "source": [
    "submission_df.to_csv(\"submission.csv\", index=False)"
   ]
  }
 ],
 "metadata": {
  "kernelspec": {
   "display_name": "Python 3",
   "language": "python",
   "name": "python3"
  },
  "language_info": {
   "codemirror_mode": {
    "name": "ipython",
    "version": 3
   },
   "file_extension": ".py",
   "mimetype": "text/x-python",
   "name": "python",
   "nbconvert_exporter": "python",
   "pygments_lexer": "ipython3",
   "version": "3.7.12"
  },
  "papermill": {
   "default_parameters": {},
   "duration": 57.296475,
   "end_time": "2022-02-10T01:30:02.521456",
   "environment_variables": {},
   "exception": null,
   "input_path": "__notebook__.ipynb",
   "output_path": "__notebook__.ipynb",
   "parameters": {},
   "start_time": "2022-02-10T01:29:05.224981",
   "version": "2.3.3"
  }
 },
 "nbformat": 4,
 "nbformat_minor": 5
}
